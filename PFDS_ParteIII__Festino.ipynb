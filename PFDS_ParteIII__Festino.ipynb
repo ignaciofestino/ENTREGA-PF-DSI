{
  "nbformat": 4,
  "nbformat_minor": 0,
  "metadata": {
    "colab": {
      "provenance": [],
      "collapsed_sections": [
        "2orKOQsVIb6S",
        "1j2hSuuBTla1",
        "A26FyGQPViMD",
        "YEGHopqldu46",
        "fdpSJCiZzaPG",
        "TSvHUM0G0ZyW",
        "MsAwHVvx0dYR"
      ],
      "authorship_tag": "ABX9TyOtmubQoLiBkbXDYTK7Si0L",
      "include_colab_link": true
    },
    "kernelspec": {
      "name": "python3",
      "display_name": "Python 3"
    },
    "language_info": {
      "name": "python"
    }
  },
  "cells": [
    {
      "cell_type": "markdown",
      "metadata": {
        "id": "view-in-github",
        "colab_type": "text"
      },
      "source": [
        "<a href=\"https://colab.research.google.com/github/ignaciofestino/ENTREGA-PF-DSI/blob/main/PFDS_ParteIII__Festino.ipynb\" target=\"_parent\"><img src=\"https://colab.research.google.com/assets/colab-badge.svg\" alt=\"Open In Colab\"/></a>"
      ]
    },
    {
      "cell_type": "markdown",
      "source": [
        "# **Entrega Trabajo Final**\n",
        " **Análisis de Sentimiento en Reseñas de IMDB: Preprocesamiento NLP y Clasificación con Redes Neuronales**\n",
        "\n",
        "DATA SCIENCE III: NLP & Deep Learning aplicado a Ciencia de Datos\n",
        "\n",
        "IGNACIO FESTINO\n",
        "\n",
        "\n",
        "---\n",
        "\n",
        "\n"
      ],
      "metadata": {
        "id": "OAnhzLEWDDU5"
      }
    },
    {
      "cell_type": "markdown",
      "source": [
        "# **Abstract**\n",
        "\n",
        "El análisis de sentimiento en texto es una tarea fundamental en el procesamiento del lenguaje natural (NLP). En este trabajo, se utiliza el dataset IMDB Reviews, que contiene reseñas de películas etiquetadas como positivas o negativas. Primero, se realiza un preprocesamiento del texto aplicando técnicas como tokenización, remoción de stopwords y lematización. Luego, se extraen características mediante TF-IDF para representar los textos de manera numérica. Finalmente, se entrena una red neuronal profunda con al menos dos capas para clasificar las reseñas según su polaridad. Los resultados se comparan con un modelo base para evaluar mejoras en la clasificación."
      ],
      "metadata": {
        "id": "2orKOQsVIb6S"
      }
    },
    {
      "cell_type": "markdown",
      "source": [
        "# **Objetivos**\n",
        "\n",
        "✅ Explorar y preprocesar el dataset **IMDB Reviews** aplicando técnicas de NLP.  \n",
        "\n",
        "✅ Extraer características del texto mediante **TF-IDF** u otra técnica de vectorización.  \n",
        "\n",
        "✅ Entrenar una **red neuronal** para clasificar reseñas en positivas y negativas.  \n",
        "\n",
        "✅ Evaluar y comparar el desempeño del modelo con un enfoque más simple.  \n",
        "\n",
        "✅ Plantear conclusiones y posibles mejoras."
      ],
      "metadata": {
        "id": "epv04FSeiWEC"
      }
    }
  ]
}